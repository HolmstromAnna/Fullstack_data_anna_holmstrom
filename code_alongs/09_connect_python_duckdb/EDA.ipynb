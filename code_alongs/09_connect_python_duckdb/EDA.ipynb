{
 "cells": [
  {
   "cell_type": "code",
   "execution_count": null,
   "metadata": {},
   "outputs": [],
   "source": [
    "from database import DatabaseDataFrame\n",
    "from constants import DATABASE_PATH\n",
    "\n",
    "with DatabaseDataFrame(DATABASE_PATH) as db:\n",
    "    df = db.query(\"SELECT * FROM supplier_invoice.invoice_202407\")\n",
    "\n",
    "    df.head()"
   ]
  }
 ],
 "metadata": {
  "language_info": {
   "name": "python"
  }
 },
 "nbformat": 4,
 "nbformat_minor": 2
}
